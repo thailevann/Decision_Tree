{
  "nbformat": 4,
  "nbformat_minor": 0,
  "metadata": {
    "colab": {
      "provenance": []
    },
    "kernelspec": {
      "name": "python3",
      "display_name": "Python 3"
    },
    "language_info": {
      "name": "python"
    }
  },
  "cells": [
    {
      "cell_type": "markdown",
      "source": [
        "#Decision Tree for Classification"
      ],
      "metadata": {
        "id": "H-YCA8C09pDa"
      }
    },
    {
      "cell_type": "code",
      "execution_count": 1,
      "metadata": {
        "colab": {
          "base_uri": "https://localhost:8080/"
        },
        "id": "8rGAe7qEpQYy",
        "outputId": "1dce5823-7204-4239-e50d-0bad8c718202"
      },
      "outputs": [
        {
          "output_type": "stream",
          "name": "stdout",
          "text": [
            "1.0\n"
          ]
        }
      ],
      "source": [
        "#exercise8\n",
        "from sklearn import datasets\n",
        "from sklearn . model_selection import train_test_split\n",
        "from sklearn . metrics import accuracy_score\n",
        "from sklearn . tree import DecisionTreeClassifier\n",
        "\n",
        "iris_X, iris_y = datasets.load_iris(return_X_y=True)\n",
        "X_train , X_test , y_train , y_test = train_test_split (\n",
        "                                                        iris_X , iris_y ,\n",
        "                                                        test_size =0.2 ,\n",
        "                                                        random_state =42)\n",
        "dt_classifer = DecisionTreeClassifier()\n",
        "dt_classifer.fit(X_train, y_train)\n",
        "y_pred = dt_classifer.predict(X_test)\n",
        "print(accuracy_score(y_test, y_pred))"
      ]
    },
    {
      "cell_type": "markdown",
      "source": [
        "#Decision Tree for Regression"
      ],
      "metadata": {
        "id": "MLEYjalfBhgu"
      }
    },
    {
      "cell_type": "code",
      "source": [
        "from sklearn . datasets import fetch_openml\n",
        "from sklearn . model_selection import train_test_split\n",
        "from sklearn . metrics import mean_squared_error\n",
        "from sklearn . tree import DecisionTreeRegressor\n",
        "\n",
        "machine_cpu = fetch_openml ( name ='machine_cpu')\n",
        "machine_data = machine_cpu . data\n",
        "machine_labels = machine_cpu . target\n",
        "\n",
        "X_train , X_test , y_train , y_test = train_test_split (\n",
        "machine_data , machine_labels ,\n",
        "test_size =0.2 ,\n",
        "random_state =42)\n",
        "\n",
        "tree_reg = DecisionTreeRegressor ()\n",
        "tree_reg . fit ( X_train , y_train )\n",
        "\n",
        "y_pred = tree_reg . predict ( X_test )\n",
        "mean_squared_error ( y_test , y_pred )"
      ],
      "metadata": {
        "colab": {
          "base_uri": "https://localhost:8080/"
        },
        "id": "ElUTVWfVBiQ8",
        "outputId": "d8ca1276-f5db-4369-fcf6-1be7c6e2656b"
      },
      "execution_count": 2,
      "outputs": [
        {
          "output_type": "stream",
          "name": "stderr",
          "text": [
            "/usr/local/lib/python3.10/dist-packages/sklearn/datasets/_openml.py:311: UserWarning: Multiple active versions of the dataset matching the name machine_cpu exist. Versions may be fundamentally different, returning version 1.\n",
            "  warn(\n",
            "/usr/local/lib/python3.10/dist-packages/sklearn/datasets/_openml.py:1022: FutureWarning: The default value of `parser` will change from `'liac-arff'` to `'auto'` in 1.4. You can set `parser='auto'` to silence this warning. Therefore, an `ImportError` will be raised from 1.4 if the dataset is dense and pandas is not installed. Note that the pandas parser may return different data types. See the Notes Section in fetch_openml's API doc for details.\n",
            "  warn(\n"
          ]
        },
        {
          "output_type": "execute_result",
          "data": {
            "text/plain": [
              "9096.315476190477"
            ]
          },
          "metadata": {},
          "execution_count": 2
        }
      ]
    }
  ]
}